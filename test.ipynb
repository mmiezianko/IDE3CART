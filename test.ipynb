{
 "cells": [
  {
   "cell_type": "code",
   "execution_count": null,
   "metadata": {
    "pycharm": {
     "is_executing": true
    }
   },
   "outputs": [],
   "source": [
    "import csv\n",
    "import numpy as np\n",
    "import pandas as pd\n",
    "from decision_tree.grow_decision_tree import grow_tree, plot, prune, predict\n",
    "from decision_tree.open_file import loadCSV\n",
    "import matplotlib.pyplot as plt\n",
    "#import networkx as nx"
   ]
  },
  {
   "cell_type": "code",
   "execution_count": null,
   "metadata": {
    "pycharm": {
     "is_executing": true,
     "name": "#%%    # the bigger example\n"
    }
   },
   "outputs": [],
   "source": [
    "trainingData3 = loadCSV('../data/iris.csv') # demo data from matlab\n",
    "\n",
    "\n",
    "\n",
    "decisionTree3 = grow_tree(trainingData3)\n",
    "plot(decisionTree3)"
   ]
  },
  {
   "cell_type": "code",
   "execution_count": null,
   "metadata": {
    "pycharm": {
     "is_executing": true,
     "name": "#%%\n"
    }
   },
   "outputs": [],
   "source": [
    "def get_hash_dict(d_tree, hash_dict):\n",
    "    if d_tree.value is not None:\n",
    "        hash_dict[d_tree.__hash__()] = [d_tree.branch_with_value.__hash__(), d_tree.branch_with_others.__hash__()]\n",
    "        get_hash_dict(d_tree.branch_with_value,hash_dict)\n",
    "        get_hash_dict(d_tree.branch_with_others,hash_dict)\n",
    "def get_neighborhood_list(d_tree):\n",
    "    dict = {}\n",
    "    get_hash_dict(d_tree, dict)\n",
    "    print(dict)\n",
    "    values = [k for k in dict.keys()]\n",
    "    for v in dict.values():\n",
    "        values.extend(v)\n",
    "    hashes = set(values)\n",
    "    hash_to_int = {k:i for i,k in enumerate(hashes)}\n",
    "    print(hash_to_int)\n",
    "    neighborhood_list = {}\n",
    "    for k,v in dict.items():\n",
    "        neighborhood_list[hash_to_int[k]]=[hash_to_int[v[0]], hash_to_int[v[1]]]\n",
    "    print(neighborhood_list)\n",
    "    return neighborhood_list\n",
    "\n",
    "# def draw_graph(nb_list):\n",
    "#     G = nx.Graph()\n",
    "#     G.add_nodes_from(nb_list.keys())\n",
    "#     for k, v in nb_list.items():\n",
    "#         G.add_edge(k,v[0])\n",
    "#         G.add_edge(k,v[1])\n",
    "#     plt.subplot(1)\n",
    "#     print(\"piniting...\")\n",
    "#     nx.draw_shell(G, with_labels=True)\n",
    "print(get_neighborhood_list(decisionTree3))"
   ]
  },
  {
   "cell_type": "code",
   "execution_count": null,
   "metadata": {
    "pycharm": {
     "is_executing": true,
     "name": "#%%    # the bigger example\n"
    }
   },
   "outputs": [],
   "source": [
    "trainingData = loadCSV('../notebooks/dane.csv') # demo data from matlab\n",
    "\n",
    "\n",
    "\n",
    "decisionTree = grow_tree(trainingData)\n",
    "plot(decisionTree)\n",
    "\n",
    "\n"
   ]
  },
  {
   "cell_type": "code",
   "execution_count": null,
   "metadata": {
    "pycharm": {
     "is_executing": true,
     "name": "#%%\n"
    }
   },
   "outputs": [],
   "source": [
    "prune(decisionTree3, 0.5, noticication=True) # notify, when a branch is pruned (one time in this example)\n",
    "plot(decisionTree3)\n",
    "print('###')\n",
    "print(predict([6.0, 2.2, 5.0, 1.5], decisionTree3))\n",
    "\n",
    "\n",
    "\n"
   ]
  },
  {
   "cell_type": "markdown",
   "metadata": {},
   "source": [
    "# Drzewa decyzyjne\n",
    "\n",
    "Drzewo decyzyjne to struktura danych zorganizowanych w drzewo, w którym\n",
    "z każdego węzła (oprócz liści) wychodzą gałęzie reprezentujące poszczególne wartości\n",
    "atrybutu danych pełniącego funkcję klasyfikatora.\n",
    "\n",
    "Podstawowym algorytmem budowania drzewa decyzyjnego jest algorytm ID3, bazujący na entropii\n",
    "informacyjnej i wartości zysku informacyjnego poszczególnych atrybutów.\n",
    "\n",
    "## Elementy teorii informacji\n",
    "\n",
    "Przedmiotem teorii informacji jest kwantyfikowanie informacji, czyli ujmowanie jej w sposób\n",
    "ilościowy, a także detale związane z jej przechowywaniem i przesyłaniem. Poniżej wyjaśnimy podstawowe\n",
    "dwa pojęcia, na których opiera się konstruowanie drzew decyzyjnych za pomocą algorytmu ID3.\n",
    "\n",
    "### Entropia\n",
    "\n",
    "W celu zbudowania drzewa decyzyjnego, będziemy musieli określić zadawane pytania,\n",
    "a także ustawić je w odpowieniej kolejności. Na każdym etapie drzewa będą znajdowały\n",
    "się jakieś możliwości, które wyelminowaliśmy, i inne, które czekają na podział. Każde\n",
    "pytanie dzieli pozostałe możliwości zgodnie z odpowiedzią.\n",
    "\n",
    "Najlepiej byłoby, gdybyśmy zadawali pytania, które dają odpowiedzi zawierające dużo\n",
    "informacji na temat tego, co nasze drzewo powinno przewidzieć. \"Ilość wnoszonych informacji\"\n",
    "można określić właśnie za pomocą entropii, czyli swoistej miary niepewności związanej z danymi.\n",
    "\n",
    "Ogólnie rzecz biorąc - dyby wszystkie elementy danego zbioru należały do jednej klasy,\n",
    "to nie ma żadnej niepewności, a więc entropia byłaby niska. W przypadku równego\n",
    "rozdziału elementów pomiędzy klasy mamy dużą niepewność, a więc wysoką entropię.\n",
    "\n",
    "Jeżeli p określa część danych oznaczoną etykietami wskazującymi na przynależność do danej\n",
    "klasy, to entropię możemy opisać następującym równaniem:\n",
    "\n",
    "![](https://miro.medium.com/max/1094/1*voRgqFZhfko4ZfG3odSK_Q.png)\n",
    "\n",
    "Wzór ten zakłada, że 0 log 0 = 0.\n",
    "\n",
    "Co więcej, przyjmujemy również, że kaźdy czynnik $ -p_{i} log_{2} p_{i} $ jest wartością\n",
    "nieujemną i bliską zeru dokładnie wtedy, gdy wartość $ -p_{i} $ jest zbliżona do 0\n",
    "lub 1, co obrazuje poniższy wykres.\n",
    "\n",
    "![](https://s3-ap-southeast-1.amazonaws.com/he-public-data/Entropydfcb350.jpg)"
   ]
  },
  {
   "cell_type": "code",
   "execution_count": null,
   "metadata": {
    "pycharm": {
     "is_executing": true,
     "name": "#%%\n"
    }
   },
   "outputs": [],
   "source": []
  }
 ],
 "metadata": {
  "kernelspec": {
   "display_name": "Python 3",
   "language": "python",
   "name": "python3"
  },
  "language_info": {
   "codemirror_mode": {
    "name": "ipython",
    "version": 3
   },
   "file_extension": ".py",
   "mimetype": "text/x-python",
   "name": "python",
   "nbconvert_exporter": "python",
   "pygments_lexer": "ipython3",
   "version": "3.7.6"
  }
 },
 "nbformat": 4,
 "nbformat_minor": 1
}
