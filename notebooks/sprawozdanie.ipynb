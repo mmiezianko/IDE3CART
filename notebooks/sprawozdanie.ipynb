{
 "cells": [
  {
   "cell_type": "code",
   "execution_count": 2,
   "metadata": {
    "collapsed": true
   },
   "outputs": [],
   "source": [
    "import pandas as pd\n",
    "import numpy as np\n",
    "from itertools import product\n",
    "\n",
    "def expand_grid(dictionary):\n",
    "   return pd.DataFrame([row for row in product(*dictionary.values())],\n",
    "                       columns=dictionary.keys())\n",
    "\n",
    "dictionary = {'pogoda': ['goraco', 'letnio', 'zimno', 'mrozno'],\n",
    "              'dyscyplina': ['lina', 'bouldering', 'czasowki'],\n",
    "              'staz_wspinaczkowy': ['<3', '3-10', '>10'],\n",
    "              'płeć': ['kobieta', 'mezczyzna'],\n",
    "              'samopoczucie': ['zmeczony', 'wypoczęty', 'srednie']}\n",
    "\n",
    "dane = expand_grid(dictionary)\n",
    "\n",
    "np.random.seed(42)\n",
    "dane['Y'] = np.random.choice(['skaly', 'scianka', 'dom'], dane.shape[0])\n",
    "dane.to_csv(\"dane.csv\", header=False,index=False)\n"
   ]
  },
  {
   "cell_type": "code",
   "execution_count": 3,
   "outputs": [
    {
     "data": {
      "text/plain": "     pogoda dyscyplina staz_wspinaczkowy       płeć samopoczucie        Y\n0    goraco       lina                <3    kobieta     zmeczony      dom\n1    goraco       lina                <3    kobieta    wypoczęty    skaly\n2    goraco       lina                <3    kobieta      srednie      dom\n3    goraco       lina                <3  mezczyzna     zmeczony      dom\n4    goraco       lina                <3  mezczyzna    wypoczęty    skaly\n..      ...        ...               ...        ...          ...      ...\n211  mrozno   czasowki               >10    kobieta    wypoczęty    skaly\n212  mrozno   czasowki               >10    kobieta      srednie      dom\n213  mrozno   czasowki               >10  mezczyzna     zmeczony    skaly\n214  mrozno   czasowki               >10  mezczyzna    wypoczęty  scianka\n215  mrozno   czasowki               >10  mezczyzna      srednie  scianka\n\n[216 rows x 6 columns]",
      "text/html": "<div>\n<style scoped>\n    .dataframe tbody tr th:only-of-type {\n        vertical-align: middle;\n    }\n\n    .dataframe tbody tr th {\n        vertical-align: top;\n    }\n\n    .dataframe thead th {\n        text-align: right;\n    }\n</style>\n<table border=\"1\" class=\"dataframe\">\n  <thead>\n    <tr style=\"text-align: right;\">\n      <th></th>\n      <th>pogoda</th>\n      <th>dyscyplina</th>\n      <th>staz_wspinaczkowy</th>\n      <th>płeć</th>\n      <th>samopoczucie</th>\n      <th>Y</th>\n    </tr>\n  </thead>\n  <tbody>\n    <tr>\n      <th>0</th>\n      <td>goraco</td>\n      <td>lina</td>\n      <td>&lt;3</td>\n      <td>kobieta</td>\n      <td>zmeczony</td>\n      <td>dom</td>\n    </tr>\n    <tr>\n      <th>1</th>\n      <td>goraco</td>\n      <td>lina</td>\n      <td>&lt;3</td>\n      <td>kobieta</td>\n      <td>wypoczęty</td>\n      <td>skaly</td>\n    </tr>\n    <tr>\n      <th>2</th>\n      <td>goraco</td>\n      <td>lina</td>\n      <td>&lt;3</td>\n      <td>kobieta</td>\n      <td>srednie</td>\n      <td>dom</td>\n    </tr>\n    <tr>\n      <th>3</th>\n      <td>goraco</td>\n      <td>lina</td>\n      <td>&lt;3</td>\n      <td>mezczyzna</td>\n      <td>zmeczony</td>\n      <td>dom</td>\n    </tr>\n    <tr>\n      <th>4</th>\n      <td>goraco</td>\n      <td>lina</td>\n      <td>&lt;3</td>\n      <td>mezczyzna</td>\n      <td>wypoczęty</td>\n      <td>skaly</td>\n    </tr>\n    <tr>\n      <th>...</th>\n      <td>...</td>\n      <td>...</td>\n      <td>...</td>\n      <td>...</td>\n      <td>...</td>\n      <td>...</td>\n    </tr>\n    <tr>\n      <th>211</th>\n      <td>mrozno</td>\n      <td>czasowki</td>\n      <td>&gt;10</td>\n      <td>kobieta</td>\n      <td>wypoczęty</td>\n      <td>skaly</td>\n    </tr>\n    <tr>\n      <th>212</th>\n      <td>mrozno</td>\n      <td>czasowki</td>\n      <td>&gt;10</td>\n      <td>kobieta</td>\n      <td>srednie</td>\n      <td>dom</td>\n    </tr>\n    <tr>\n      <th>213</th>\n      <td>mrozno</td>\n      <td>czasowki</td>\n      <td>&gt;10</td>\n      <td>mezczyzna</td>\n      <td>zmeczony</td>\n      <td>skaly</td>\n    </tr>\n    <tr>\n      <th>214</th>\n      <td>mrozno</td>\n      <td>czasowki</td>\n      <td>&gt;10</td>\n      <td>mezczyzna</td>\n      <td>wypoczęty</td>\n      <td>scianka</td>\n    </tr>\n    <tr>\n      <th>215</th>\n      <td>mrozno</td>\n      <td>czasowki</td>\n      <td>&gt;10</td>\n      <td>mezczyzna</td>\n      <td>srednie</td>\n      <td>scianka</td>\n    </tr>\n  </tbody>\n</table>\n<p>216 rows × 6 columns</p>\n</div>"
     },
     "execution_count": 3,
     "metadata": {},
     "output_type": "execute_result"
    }
   ],
   "source": [
    "dane"
   ],
   "metadata": {
    "collapsed": false,
    "pycharm": {
     "name": "#%%\n"
    }
   }
  },
  {
   "cell_type": "code",
   "execution_count": 9,
   "outputs": [],
   "source": [],
   "metadata": {
    "collapsed": false,
    "pycharm": {
     "name": "#%%\n"
    }
   }
  },
  {
   "cell_type": "markdown",
   "source": [],
   "metadata": {
    "collapsed": false
   }
  }
 ],
 "metadata": {
  "kernelspec": {
   "display_name": "Python 3",
   "language": "python",
   "name": "python3"
  },
  "language_info": {
   "codemirror_mode": {
    "name": "ipython",
    "version": 2
   },
   "file_extension": ".py",
   "mimetype": "text/x-python",
   "name": "python",
   "nbconvert_exporter": "python",
   "pygments_lexer": "ipython2",
   "version": "2.7.6"
  }
 },
 "nbformat": 4,
 "nbformat_minor": 0
}